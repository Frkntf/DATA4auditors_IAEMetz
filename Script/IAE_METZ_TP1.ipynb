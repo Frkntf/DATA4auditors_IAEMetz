{
  "nbformat": 4,
  "nbformat_minor": 0,
  "metadata": {
    "colab": {
      "provenance": [],
      "collapsed_sections": [
        "gkGAvs4DtIaH"
      ],
      "authorship_tag": "ABX9TyP0oatPj31nJpDMYXq4Q3w8",
      "include_colab_link": true
    },
    "kernelspec": {
      "name": "python3",
      "display_name": "Python 3"
    },
    "language_info": {
      "name": "python"
    }
  },
  "cells": [
    {
      "cell_type": "markdown",
      "metadata": {
        "id": "view-in-github",
        "colab_type": "text"
      },
      "source": [
        "<a href=\"https://colab.research.google.com/github/Frkntf/DATA4auditors_IAEMetz/blob/main/IAE_METZ_TP1.ipynb\" target=\"_parent\"><img src=\"https://colab.research.google.com/assets/colab-badge.svg\" alt=\"Open In Colab\"/></a>"
      ]
    },
    {
      "cell_type": "code",
      "execution_count": null,
      "metadata": {
        "colab": {
          "base_uri": "https://localhost:8080/"
        },
        "id": "ba89U0A-sPM8",
        "outputId": "9e8a0058-66eb-4f87-8cd7-04dbd1e824d3"
      },
      "outputs": [
        {
          "output_type": "stream",
          "name": "stdout",
          "text": [
            "Hello World!\n"
          ]
        }
      ],
      "source": [
        "#Introduction à Python\n",
        "\n",
        "print(\"Hello World!\")"
      ]
    },
    {
      "cell_type": "markdown",
      "source": [
        "#Simple Examples\n",
        "Nous allons voir les bases de Python\n",
        "R et Python sont des programmations objet c'est à dire on défini des variables"
      ],
      "metadata": {
        "id": "gkGAvs4DtIaH"
      }
    },
    {
      "cell_type": "code",
      "source": [
        "#On va définir des variables\n",
        "prenom=\"Matt\" #est du texte c'est donc un STRING\n",
        "salaire_de_stage= 1711 # INTEGER c'est un ENTIER NATUREL\n",
        "salaire_net= 1680.95 # FLOAT = chiffre à virgule"
      ],
      "metadata": {
        "id": "TthUJ6JJttDa"
      },
      "execution_count": null,
      "outputs": []
    },
    {
      "cell_type": "code",
      "source": [
        "print(f\"Je m'apelle {prenom} et je gagnerai {salaire_de_stage} euros\")"
      ],
      "metadata": {
        "colab": {
          "base_uri": "https://localhost:8080/"
        },
        "id": "bOAsvzx3v9YR",
        "outputId": "4152ae48-c639-4042-c5f2-d0acb1218c3e"
      },
      "execution_count": null,
      "outputs": [
        {
          "output_type": "stream",
          "name": "stdout",
          "text": [
            "Je m'apelle Matt et je gagnerai 1711 euros\n"
          ]
        }
      ]
    },
    {
      "cell_type": "code",
      "source": [
        "#Arithmetic +++\n",
        "\n",
        "debit1 = 157000\n",
        "debit2 = 1711\n",
        "credit = 157000\n"
      ],
      "metadata": {
        "id": "xXHPoAGIwreY"
      },
      "execution_count": null,
      "outputs": []
    },
    {
      "cell_type": "code",
      "source": [
        "debit1+debit2"
      ],
      "metadata": {
        "colab": {
          "base_uri": "https://localhost:8080/"
        },
        "id": "Wo6ZXtyHxClf",
        "outputId": "64c10217-a044-4dc4-e677-7afddf336839"
      },
      "execution_count": null,
      "outputs": [
        {
          "output_type": "execute_result",
          "data": {
            "text/plain": [
              "158711"
            ]
          },
          "metadata": {},
          "execution_count": 10
        }
      ]
    },
    {
      "cell_type": "code",
      "source": [
        "a=debit1\n",
        "b=debit2"
      ],
      "metadata": {
        "id": "-HJmLCQ1xXoK"
      },
      "execution_count": null,
      "outputs": []
    },
    {
      "cell_type": "code",
      "source": [
        "debit1,debit2\n",
        "print(f\"SUM : {debit1+debit2}, DELTA : {a-b}, Produit : {a*b}, Division : {a/b}\")"
      ],
      "metadata": {
        "colab": {
          "base_uri": "https://localhost:8080/"
        },
        "id": "j3sujcyCxQXx",
        "outputId": "de5496e4-5d3b-4cb6-a7f2-4f3e5dc8d7c3"
      },
      "execution_count": null,
      "outputs": [
        {
          "output_type": "stream",
          "name": "stdout",
          "text": [
            "SUM : 158711, DELTA : 155289, Produit : 268627000, Division : 91.75920514319111\n"
          ]
        }
      ]
    },
    {
      "cell_type": "code",
      "source": [
        "print(f\"Division Integer: {a//b}\") #division en entier naturel"
      ],
      "metadata": {
        "colab": {
          "base_uri": "https://localhost:8080/"
        },
        "id": "ln8ZQrbVyDuo",
        "outputId": "8f73a182-183a-48cd-ed5e-fae4138bc3fb"
      },
      "execution_count": null,
      "outputs": [
        {
          "output_type": "stream",
          "name": "stdout",
          "text": [
            "Division Integer: 91\n"
          ]
        }
      ]
    },
    {
      "cell_type": "code",
      "source": [
        "#List (liste en francais)\n",
        "banks=[\"BDL\",\"BGL\",\"BNP\",\"BIL\"]\n",
        "banks[2] #la liste commence par 0 et pas par 1"
      ],
      "metadata": {
        "colab": {
          "base_uri": "https://localhost:8080/",
          "height": 35
        },
        "id": "ZmZ0Calayex9",
        "outputId": "08a6e188-ee4b-428b-e01e-b32c2078ac8f"
      },
      "execution_count": null,
      "outputs": [
        {
          "output_type": "execute_result",
          "data": {
            "text/plain": [
              "'BNP'"
            ],
            "application/vnd.google.colaboratory.intrinsic+json": {
              "type": "string"
            }
          },
          "metadata": {},
          "execution_count": 18
        }
      ]
    },
    {
      "cell_type": "code",
      "source": [
        "#Dictionnaire\n",
        "#Non-ordonne et PAIRES-CLE\n",
        "valorisation= {\"nom\": \"Nike\", \"actif\": 37, \"passif\": 34}\n"
      ],
      "metadata": {
        "id": "xo40vYu0zHKX"
      },
      "execution_count": null,
      "outputs": []
    },
    {
      "cell_type": "code",
      "source": [
        "print(f\"la valorisation de {valorisation['nom']} est avec un actif\")"
      ],
      "metadata": {
        "colab": {
          "base_uri": "https://localhost:8080/"
        },
        "id": "s8ddwD-i0BCU",
        "outputId": "3897c9e9-f74f-42b5-a619-fc7a2b2a37c9"
      },
      "execution_count": null,
      "outputs": [
        {
          "output_type": "stream",
          "name": "stdout",
          "text": [
            "la valorisation de Nike est avec un actif\n"
          ]
        }
      ]
    },
    {
      "cell_type": "markdown",
      "source": [
        "# Exemples pour les auditeurs\n",
        "\n",
        "Etude de cas pour l'audit, de ma société"
      ],
      "metadata": {
        "id": "dtK4V4rW63CE"
      }
    },
    {
      "cell_type": "code",
      "source": [
        "# Cellule des variables\n",
        "revenu = 100000\n",
        "depenses = 75000\n",
        "taux_imposition_francais= 0.25\n",
        "taux_imposition_luxembourgeois= 0.17\n",
        "taux_imposition_irelande = 0.125"
      ],
      "metadata": {
        "id": "5pbIGod_7HJs"
      },
      "execution_count": null,
      "outputs": []
    },
    {
      "cell_type": "code",
      "source": [
        "# Cellule des calculs\n",
        "benefice = revenu-depenses\n",
        "impot_en_france= benefice * taux_imposition_francais\n",
        "impot_au_lux= taux_imposition_luxembourgeois*benefice\n",
        "impot_en_ire= taux_imposition_irelande*benefice\n",
        "benefice_net_fr=benefice-impot_en_france"
      ],
      "metadata": {
        "id": "VJdsKMbn7t8V"
      },
      "execution_count": null,
      "outputs": []
    },
    {
      "cell_type": "code",
      "source": [
        "print(benefice)\n",
        "print(impot_en_france)"
      ],
      "metadata": {
        "colab": {
          "base_uri": "https://localhost:8080/"
        },
        "id": "g7T1GEc775mv",
        "outputId": "71366299-75d3-440a-edb8-d995e5e792cb"
      },
      "execution_count": null,
      "outputs": [
        {
          "output_type": "stream",
          "name": "stdout",
          "text": [
            "25000\n",
            "6250.0\n"
          ]
        }
      ]
    },
    {
      "cell_type": "code",
      "source": [
        "#Cellule des checks/prints\n",
        "print(\"Impot à payer en France\", impot_en_france, \"euros\")"
      ],
      "metadata": {
        "colab": {
          "base_uri": "https://localhost:8080/"
        },
        "id": "TjGn7mriLtvy",
        "outputId": "680ccbd7-6a5e-4e4e-dbaf-b1ff351fc94f"
      },
      "execution_count": null,
      "outputs": [
        {
          "output_type": "stream",
          "name": "stdout",
          "text": [
            "Impot à payer en France 6250.0 euros\n"
          ]
        }
      ]
    },
    {
      "cell_type": "code",
      "source": [
        "#Comparaison entre irelande, luxembourg\n",
        "print(\"On compare au Luxembourg\",taux_imposition_luxembourgeois*benefice,\"euros\", \"vs en ireland\", taux_imposition_irelande*benefice, \"euros\")\n"
      ],
      "metadata": {
        "colab": {
          "base_uri": "https://localhost:8080/"
        },
        "id": "E9SGRR82MT1Y",
        "outputId": "3d312b36-b373-4049-bfb3-75adf908d3b0"
      },
      "execution_count": null,
      "outputs": [
        {
          "output_type": "stream",
          "name": "stdout",
          "text": [
            "On compare au Luxembourg 4250.0 euros vs en ireland 3125.0 euros\n"
          ]
        }
      ]
    },
    {
      "cell_type": "code",
      "source": [
        "impot_en_france - impot_au_lux"
      ],
      "metadata": {
        "colab": {
          "base_uri": "https://localhost:8080/"
        },
        "id": "atD1zoE_OyEc",
        "outputId": "b806f39d-139a-4d86-f6d3-5c6018f03d52"
      },
      "execution_count": null,
      "outputs": [
        {
          "output_type": "execute_result",
          "data": {
            "text/plain": [
              "2000.0"
            ]
          },
          "metadata": {},
          "execution_count": 43
        }
      ]
    },
    {
      "cell_type": "markdown",
      "source": [
        "#Structure de contrôle\n"
      ],
      "metadata": {
        "id": "QRqnZriPPUeL"
      }
    },
    {
      "cell_type": "code",
      "source": [
        "# CONDITIONS (if, elif, else)\n",
        "if benefice_net_fr > 0:\n",
        "  print(\"L'entreprise réalise un benefice net. Un benef de\", benefice_net_fr, \"euros\")\n",
        "elif benefice_net_fr==0:\n",
        "  print(\"L'entreprise est à l'equilibre\")\n",
        "else:\n",
        "  print(\"L'entreprise réalise une perte nette.\")"
      ],
      "metadata": {
        "colab": {
          "base_uri": "https://localhost:8080/"
        },
        "id": "eUnj3ZkePWyh",
        "outputId": "0c6f84c2-ce2a-4947-d91b-32cdc4af6d0c"
      },
      "execution_count": null,
      "outputs": [
        {
          "output_type": "stream",
          "name": "stdout",
          "text": [
            "L'entreprise réalise un benefice net. Un benef de 18750.0 euros\n"
          ]
        }
      ]
    },
    {
      "cell_type": "markdown",
      "source": [
        "#Importation des bibliothèques\n",
        "#les packages se différencient entre 2 grandes catégories\n",
        "#1) ceux \"outils\": contenant des fonctions\n",
        "#2) ceux de \"données\" : contenant des données/valeurs"
      ],
      "metadata": {
        "id": "2__f5eFzV-Vg"
      }
    },
    {
      "cell_type": "code",
      "source": [
        "#Le package d'outils le plus repandu en python est PANDAS (ou POLARS)\n",
        "import pandas as pd"
      ],
      "metadata": {
        "id": "wbWPvo_-Xdy6"
      },
      "execution_count": 1,
      "outputs": []
    },
    {
      "cell_type": "code",
      "source": [
        "#Le package \"données\" le plus répandu en Python x FINANCE est .... YAHOO! Finance\n",
        "import yfinance as yf"
      ],
      "metadata": {
        "id": "ZJ1puwPAWckV"
      },
      "execution_count": 2,
      "outputs": []
    },
    {
      "cell_type": "code",
      "source": [
        "#BLOCK : IMPORTATION DES PACKAGES\n",
        "import yfinance as yf\n",
        "import pandas as pd\n",
        "import matplotlib.pyplot as plt\n",
        "# dans les packages \"outils\" vous pouvez SOUS SELECTIONNER LE CHAPITRE"
      ],
      "metadata": {
        "id": "_ySuy3uca6sG"
      },
      "execution_count": 3,
      "outputs": []
    },
    {
      "cell_type": "code",
      "source": [
        "#BLOCK : VARIABLES\n",
        "#pour une comparaison d'indices selon les pays\n",
        "france_symbol = 'EWQ' #iShares MSCI France ETF\n",
        "ireland_symbol = 'EWK' #iShares MSCI Ireland ETF\n",
        "luxembourg_symbol = 'SPY' #S&P 500 son ETF"
      ],
      "metadata": {
        "id": "jJDxdppPZZfx"
      },
      "execution_count": 4,
      "outputs": []
    },
    {
      "cell_type": "code",
      "source": [
        "#BLOCK : TIME FRAME\n",
        "start_date = '2010-01-01'\n",
        "end_date = '2025-01-01'"
      ],
      "metadata": {
        "id": "07-VF66fZ8LP"
      },
      "execution_count": 5,
      "outputs": []
    },
    {
      "cell_type": "code",
      "source": [
        "#Telechargement des données historiques de YFINANCE pour chaque pays\n",
        "france_data = yf.download(france_symbol, start=start_date, end=end_date)\n",
        "irelande_data = yf.download(ireland_symbol, start=start_date, end=end_date)\n",
        "lux_data = yf.download(luxembourg_symbol, start=start_date, end=end_date)"
      ],
      "metadata": {
        "colab": {
          "base_uri": "https://localhost:8080/"
        },
        "id": "rSG1J-NoaGuu",
        "outputId": "5ec437db-be69-4a88-ab19-f856c0c5c4b7"
      },
      "execution_count": 10,
      "outputs": [
        {
          "output_type": "stream",
          "name": "stderr",
          "text": [
            "[*********************100%***********************]  1 of 1 completed\n",
            "[*********************100%***********************]  1 of 1 completed\n",
            "[*********************100%***********************]  1 of 1 completed\n"
          ]
        }
      ]
    },
    {
      "cell_type": "code",
      "source": [
        "print(france_data)"
      ],
      "metadata": {
        "colab": {
          "base_uri": "https://localhost:8080/"
        },
        "id": "FNMgbjVobgKP",
        "outputId": "d9d4f36e-306c-45c2-8cc0-708cb35138d2"
      },
      "execution_count": 7,
      "outputs": [
        {
          "output_type": "stream",
          "name": "stdout",
          "text": [
            "Price           Close       High        Low       Open  Volume\n",
            "Ticker            EWQ        EWQ        EWQ        EWQ     EWQ\n",
            "Date                                                          \n",
            "2010-01-04  17.787544  17.827411  17.641363  17.641363   97400\n",
            "2010-01-05  17.741035  17.867282  17.674589  17.847349  164100\n",
            "2010-01-06  17.834063  17.840707  17.687882  17.734394  117300\n",
            "2010-01-07  17.754326  17.787550  17.634724  17.648013   87500\n",
            "2010-01-08  18.000175  18.006820  17.760970  17.787549  155400\n",
            "...               ...        ...        ...        ...     ...\n",
            "2024-12-24  35.970001  36.009998  35.619999  35.730000  187100\n",
            "2024-12-26  36.119999  36.200001  35.939999  35.959999  216600\n",
            "2024-12-27  36.060001  36.139999  35.900002  35.959999  758900\n",
            "2024-12-30  35.810001  35.910000  35.650002  35.900002  361400\n",
            "2024-12-31  35.880001  36.169998  35.799999  36.169998  401800\n",
            "\n",
            "[3774 rows x 5 columns]\n"
          ]
        }
      ]
    },
    {
      "cell_type": "code",
      "source": [
        "#BLOCK : ANALYSE DES DATAFRAMES (EDA)\n",
        "#Il y a jours fériés donc il y'a des valeurs nulles\n",
        "#france_data.isnull().sum()\n",
        "#DATA_FRAME . FUNCTION_NAME()"
      ],
      "metadata": {
        "id": "5Fm8WPkMbkD_"
      },
      "execution_count": 11,
      "outputs": []
    },
    {
      "cell_type": "code",
      "source": [
        "#Calcul des rdt quotidiens pour chacun des fonds\n",
        "lux_return=lux_data.pct_change().dropna()\n",
        "irelande_return=irelande_data.pct_change().dropna()\n",
        "france_return=france_data.pct_change().dropna()"
      ],
      "metadata": {
        "id": "N-5tiOmMehV3"
      },
      "execution_count": 12,
      "outputs": []
    },
    {
      "cell_type": "code",
      "source": [
        "#Calcul de la renta cumulée des fds sur une periode\n",
        "lux_cumulative_return=(1+lux_return).cumprod()-1\n",
        "ireland_cumulative_return=(1+irelande_return).cumprod()-1\n",
        "france_cumulative_return=(1+france_return).cumprod()-1"
      ],
      "metadata": {
        "id": "EcOTi9nwdyFR"
      },
      "execution_count": null,
      "outputs": []
    },
    {
      "cell_type": "code",
      "source": [
        "#BLOCK : GRAPHIQUES\n",
        "#presentation à des investisseurs des rdt via un dataframe\n",
        "print(lux_data.head())\n",
        "print(irelande_data.head())\n",
        "print(france_data.head())"
      ],
      "metadata": {
        "colab": {
          "base_uri": "https://localhost:8080/"
        },
        "id": "pxcSWFiCePDa",
        "outputId": "702e9b3e-ee67-44b6-8d22-f7f7a74f9c1a"
      },
      "execution_count": 14,
      "outputs": [
        {
          "output_type": "stream",
          "name": "stdout",
          "text": [
            "Price           Close       High        Low       Open     Volume\n",
            "Ticker            SPY        SPY        SPY        SPY        SPY\n",
            "Date                                                             \n",
            "2010-01-04  86.026451  86.071994  84.644927  85.297736  118944600\n",
            "2010-01-05  86.254166  86.292122  85.662085  85.973310  111579900\n",
            "2010-01-06  86.314903  86.527445  86.102362  86.170676  116074400\n",
            "2010-01-07  86.679268  86.785539  85.912596  86.155501  131091100\n",
            "2010-01-08  86.967705  87.005661  86.276946  86.451531  126402800\n",
            "Price          Close      High       Low      Open  Volume\n",
            "Ticker           EWK       EWK       EWK       EWK     EWK\n",
            "Date                                                      \n",
            "2010-01-04  8.644100  8.729103  8.572175  8.572175  329400\n",
            "2010-01-05  8.748718  8.781412  8.683331  8.729102  451600\n",
            "2010-01-06  8.801028  8.801028  8.689871  8.689871   71800\n",
            "2010-01-07  8.742180  8.761796  8.696409  8.742180   46000\n",
            "2010-01-08  8.781411  8.801027  8.696409  8.696409  391700\n",
            "Price           Close       High        Low       Open  Volume\n",
            "Ticker            EWQ        EWQ        EWQ        EWQ     EWQ\n",
            "Date                                                          \n",
            "2010-01-04  17.787544  17.827411  17.641363  17.641363   97400\n",
            "2010-01-05  17.741035  17.867282  17.674589  17.847349  164100\n",
            "2010-01-06  17.834063  17.840707  17.687882  17.734394  117300\n",
            "2010-01-07  17.754326  17.787550  17.634724  17.648013   87500\n",
            "2010-01-08  18.000175  18.006820  17.760970  17.787549  155400\n"
          ]
        }
      ]
    }
  ]
}
